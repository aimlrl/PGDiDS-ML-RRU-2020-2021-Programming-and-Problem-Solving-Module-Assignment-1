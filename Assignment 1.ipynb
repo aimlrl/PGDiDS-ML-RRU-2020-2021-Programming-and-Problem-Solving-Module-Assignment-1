{
 "cells": [
  {
   "cell_type": "markdown",
   "metadata": {},
   "source": [
    "# Write a code to take any 10 numbers in a list and put all the even numbers as well as prime numbers in a dictionary. Your output should look something like this: \n",
    "\n",
    "# Suppose the list has following 10 numbers:\n",
    "\n",
    "# [25, 36, 31, 17, 61, 19, 58, 39, 67, 81]\n",
    "\n",
    "# Then the output of your program should look something like this: \n",
    "\n",
    "# {'even' : [36, 58], 'prime' : [31, 17, 61, 19, 67]}"
   ]
  },
  {
   "cell_type": "markdown",
   "metadata": {},
   "source": [
    "# Don't forget to apply divide and conquer strategy. So think about the solution first about only a single number and then build upon it. "
   ]
  },
  {
   "cell_type": "code",
   "execution_count": null,
   "metadata": {},
   "outputs": [],
   "source": []
  }
 ],
 "metadata": {
  "kernelspec": {
   "display_name": "Python 3",
   "language": "python",
   "name": "python3"
  },
  "language_info": {
   "codemirror_mode": {
    "name": "ipython",
    "version": 3
   },
   "file_extension": ".py",
   "mimetype": "text/x-python",
   "name": "python",
   "nbconvert_exporter": "python",
   "pygments_lexer": "ipython3",
   "version": "3.7.3"
  }
 },
 "nbformat": 4,
 "nbformat_minor": 2
}
